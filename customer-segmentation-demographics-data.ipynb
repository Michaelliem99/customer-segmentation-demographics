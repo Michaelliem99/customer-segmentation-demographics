{
 "cells": [
  {
   "cell_type": "code",
   "execution_count": 1,
   "id": "7b557a67",
   "metadata": {
    "_cell_guid": "b1076dfc-b9ad-4769-8c92-a6c4dae69d19",
    "_uuid": "8f2839f25d086af736a60e9eeb907d3b93b6e0e5",
    "execution": {
     "iopub.execute_input": "2022-09-20T07:57:01.787131Z",
     "iopub.status.busy": "2022-09-20T07:57:01.786615Z",
     "iopub.status.idle": "2022-09-20T07:57:01.811180Z",
     "shell.execute_reply": "2022-09-20T07:57:01.810197Z"
    },
    "papermill": {
     "duration": 0.035932,
     "end_time": "2022-09-20T07:57:01.813589",
     "exception": false,
     "start_time": "2022-09-20T07:57:01.777657",
     "status": "completed"
    },
    "tags": []
   },
   "outputs": [
    {
     "name": "stdout",
     "output_type": "stream",
     "text": [
      "/kaggle/input/customer-clustering/segmentation data.csv\n",
      "/kaggle/input/customer-clustering/segmentation data legend.xlsx\n"
     ]
    }
   ],
   "source": [
    "# This Python 3 environment comes with many helpful analytics libraries installed\n",
    "# It is defined by the kaggle/python Docker image: https://github.com/kaggle/docker-python\n",
    "# For example, here's several helpful packages to load\n",
    "\n",
    "import numpy as np # linear algebra\n",
    "import pandas as pd # data processing, CSV file I/O (e.g. pd.read_csv)\n",
    "\n",
    "# Input data files are available in the read-only \"../input/\" directory\n",
    "# For example, running this (by clicking run or pressing Shift+Enter) will list all files under the input directory\n",
    "\n",
    "import os\n",
    "for dirname, _, filenames in os.walk('/kaggle/input'):\n",
    "    for filename in filenames:\n",
    "        print(os.path.join(dirname, filename))\n",
    "\n",
    "# You can write up to 20GB to the current directory (/kaggle/working/) that gets preserved as output when you create a version using \"Save & Run All\" \n",
    "# You can also write temporary files to /kaggle/temp/, but they won't be saved outside of the current session"
   ]
  },
  {
   "cell_type": "code",
   "execution_count": null,
   "id": "0324594e",
   "metadata": {
    "papermill": {
     "duration": 0.005691,
     "end_time": "2022-09-20T07:57:01.825472",
     "exception": false,
     "start_time": "2022-09-20T07:57:01.819781",
     "status": "completed"
    },
    "tags": []
   },
   "outputs": [],
   "source": []
  },
  {
   "cell_type": "code",
   "execution_count": 2,
   "id": "a6ac81d4",
   "metadata": {
    "execution": {
     "iopub.execute_input": "2022-09-20T07:57:01.839486Z",
     "iopub.status.busy": "2022-09-20T07:57:01.838698Z",
     "iopub.status.idle": "2022-09-20T07:57:03.439904Z",
     "shell.execute_reply": "2022-09-20T07:57:03.438585Z"
    },
    "papermill": {
     "duration": 1.611591,
     "end_time": "2022-09-20T07:57:03.442912",
     "exception": false,
     "start_time": "2022-09-20T07:57:01.831321",
     "status": "completed"
    },
    "tags": []
   },
   "outputs": [],
   "source": [
    "import seaborn as sns\n",
    "from matplotlib import pyplot as plt\n",
    "from matplotlib.pyplot import figure\n",
    "from sklearn.preprocessing import MinMaxScaler\n",
    "from sklearn.cluster import KMeans"
   ]
  },
  {
   "cell_type": "code",
   "execution_count": 3,
   "id": "5e10ca1f",
   "metadata": {
    "execution": {
     "iopub.execute_input": "2022-09-20T07:57:03.459008Z",
     "iopub.status.busy": "2022-09-20T07:57:03.458253Z",
     "iopub.status.idle": "2022-09-20T07:57:03.477396Z",
     "shell.execute_reply": "2022-09-20T07:57:03.476296Z"
    },
    "papermill": {
     "duration": 0.029993,
     "end_time": "2022-09-20T07:57:03.479956",
     "exception": false,
     "start_time": "2022-09-20T07:57:03.449963",
     "status": "completed"
    },
    "tags": []
   },
   "outputs": [],
   "source": [
    "segmentation_data = pd.read_csv('/kaggle/input/customer-clustering/segmentation data.csv')"
   ]
  },
  {
   "cell_type": "code",
   "execution_count": 4,
   "id": "af2816c4",
   "metadata": {
    "execution": {
     "iopub.execute_input": "2022-09-20T07:57:03.494866Z",
     "iopub.status.busy": "2022-09-20T07:57:03.494057Z",
     "iopub.status.idle": "2022-09-20T07:57:03.517844Z",
     "shell.execute_reply": "2022-09-20T07:57:03.516908Z"
    },
    "papermill": {
     "duration": 0.0338,
     "end_time": "2022-09-20T07:57:03.520082",
     "exception": false,
     "start_time": "2022-09-20T07:57:03.486282",
     "status": "completed"
    },
    "tags": []
   },
   "outputs": [
    {
     "data": {
      "text/html": [
       "<div>\n",
       "<style scoped>\n",
       "    .dataframe tbody tr th:only-of-type {\n",
       "        vertical-align: middle;\n",
       "    }\n",
       "\n",
       "    .dataframe tbody tr th {\n",
       "        vertical-align: top;\n",
       "    }\n",
       "\n",
       "    .dataframe thead th {\n",
       "        text-align: right;\n",
       "    }\n",
       "</style>\n",
       "<table border=\"1\" class=\"dataframe\">\n",
       "  <thead>\n",
       "    <tr style=\"text-align: right;\">\n",
       "      <th></th>\n",
       "      <th>ID</th>\n",
       "      <th>Sex</th>\n",
       "      <th>Marital status</th>\n",
       "      <th>Age</th>\n",
       "      <th>Education</th>\n",
       "      <th>Income</th>\n",
       "      <th>Occupation</th>\n",
       "      <th>Settlement size</th>\n",
       "    </tr>\n",
       "  </thead>\n",
       "  <tbody>\n",
       "    <tr>\n",
       "      <th>0</th>\n",
       "      <td>100000001</td>\n",
       "      <td>0</td>\n",
       "      <td>0</td>\n",
       "      <td>67</td>\n",
       "      <td>2</td>\n",
       "      <td>124670</td>\n",
       "      <td>1</td>\n",
       "      <td>2</td>\n",
       "    </tr>\n",
       "    <tr>\n",
       "      <th>1</th>\n",
       "      <td>100000002</td>\n",
       "      <td>1</td>\n",
       "      <td>1</td>\n",
       "      <td>22</td>\n",
       "      <td>1</td>\n",
       "      <td>150773</td>\n",
       "      <td>1</td>\n",
       "      <td>2</td>\n",
       "    </tr>\n",
       "    <tr>\n",
       "      <th>2</th>\n",
       "      <td>100000003</td>\n",
       "      <td>0</td>\n",
       "      <td>0</td>\n",
       "      <td>49</td>\n",
       "      <td>1</td>\n",
       "      <td>89210</td>\n",
       "      <td>0</td>\n",
       "      <td>0</td>\n",
       "    </tr>\n",
       "    <tr>\n",
       "      <th>3</th>\n",
       "      <td>100000004</td>\n",
       "      <td>0</td>\n",
       "      <td>0</td>\n",
       "      <td>45</td>\n",
       "      <td>1</td>\n",
       "      <td>171565</td>\n",
       "      <td>1</td>\n",
       "      <td>1</td>\n",
       "    </tr>\n",
       "    <tr>\n",
       "      <th>4</th>\n",
       "      <td>100000005</td>\n",
       "      <td>0</td>\n",
       "      <td>0</td>\n",
       "      <td>53</td>\n",
       "      <td>1</td>\n",
       "      <td>149031</td>\n",
       "      <td>1</td>\n",
       "      <td>1</td>\n",
       "    </tr>\n",
       "    <tr>\n",
       "      <th>...</th>\n",
       "      <td>...</td>\n",
       "      <td>...</td>\n",
       "      <td>...</td>\n",
       "      <td>...</td>\n",
       "      <td>...</td>\n",
       "      <td>...</td>\n",
       "      <td>...</td>\n",
       "      <td>...</td>\n",
       "    </tr>\n",
       "    <tr>\n",
       "      <th>1995</th>\n",
       "      <td>100001996</td>\n",
       "      <td>1</td>\n",
       "      <td>0</td>\n",
       "      <td>47</td>\n",
       "      <td>1</td>\n",
       "      <td>123525</td>\n",
       "      <td>0</td>\n",
       "      <td>0</td>\n",
       "    </tr>\n",
       "    <tr>\n",
       "      <th>1996</th>\n",
       "      <td>100001997</td>\n",
       "      <td>1</td>\n",
       "      <td>1</td>\n",
       "      <td>27</td>\n",
       "      <td>1</td>\n",
       "      <td>117744</td>\n",
       "      <td>1</td>\n",
       "      <td>0</td>\n",
       "    </tr>\n",
       "    <tr>\n",
       "      <th>1997</th>\n",
       "      <td>100001998</td>\n",
       "      <td>0</td>\n",
       "      <td>0</td>\n",
       "      <td>31</td>\n",
       "      <td>0</td>\n",
       "      <td>86400</td>\n",
       "      <td>0</td>\n",
       "      <td>0</td>\n",
       "    </tr>\n",
       "    <tr>\n",
       "      <th>1998</th>\n",
       "      <td>100001999</td>\n",
       "      <td>1</td>\n",
       "      <td>1</td>\n",
       "      <td>24</td>\n",
       "      <td>1</td>\n",
       "      <td>97968</td>\n",
       "      <td>0</td>\n",
       "      <td>0</td>\n",
       "    </tr>\n",
       "    <tr>\n",
       "      <th>1999</th>\n",
       "      <td>100002000</td>\n",
       "      <td>0</td>\n",
       "      <td>0</td>\n",
       "      <td>25</td>\n",
       "      <td>0</td>\n",
       "      <td>68416</td>\n",
       "      <td>0</td>\n",
       "      <td>0</td>\n",
       "    </tr>\n",
       "  </tbody>\n",
       "</table>\n",
       "<p>2000 rows × 8 columns</p>\n",
       "</div>"
      ],
      "text/plain": [
       "             ID  Sex  Marital status  Age  Education  Income  Occupation  \\\n",
       "0     100000001    0               0   67          2  124670           1   \n",
       "1     100000002    1               1   22          1  150773           1   \n",
       "2     100000003    0               0   49          1   89210           0   \n",
       "3     100000004    0               0   45          1  171565           1   \n",
       "4     100000005    0               0   53          1  149031           1   \n",
       "...         ...  ...             ...  ...        ...     ...         ...   \n",
       "1995  100001996    1               0   47          1  123525           0   \n",
       "1996  100001997    1               1   27          1  117744           1   \n",
       "1997  100001998    0               0   31          0   86400           0   \n",
       "1998  100001999    1               1   24          1   97968           0   \n",
       "1999  100002000    0               0   25          0   68416           0   \n",
       "\n",
       "      Settlement size  \n",
       "0                   2  \n",
       "1                   2  \n",
       "2                   0  \n",
       "3                   1  \n",
       "4                   1  \n",
       "...               ...  \n",
       "1995                0  \n",
       "1996                0  \n",
       "1997                0  \n",
       "1998                0  \n",
       "1999                0  \n",
       "\n",
       "[2000 rows x 8 columns]"
      ]
     },
     "execution_count": 4,
     "metadata": {},
     "output_type": "execute_result"
    }
   ],
   "source": [
    "segmentation_data"
   ]
  },
  {
   "cell_type": "code",
   "execution_count": 5,
   "id": "c847a566",
   "metadata": {
    "execution": {
     "iopub.execute_input": "2022-09-20T07:57:03.535437Z",
     "iopub.status.busy": "2022-09-20T07:57:03.534660Z",
     "iopub.status.idle": "2022-09-20T07:57:03.558805Z",
     "shell.execute_reply": "2022-09-20T07:57:03.557647Z"
    },
    "papermill": {
     "duration": 0.035627,
     "end_time": "2022-09-20T07:57:03.562153",
     "exception": false,
     "start_time": "2022-09-20T07:57:03.526526",
     "status": "completed"
    },
    "tags": []
   },
   "outputs": [
    {
     "name": "stdout",
     "output_type": "stream",
     "text": [
      "<class 'pandas.core.frame.DataFrame'>\n",
      "RangeIndex: 2000 entries, 0 to 1999\n",
      "Data columns (total 8 columns):\n",
      " #   Column           Non-Null Count  Dtype\n",
      "---  ------           --------------  -----\n",
      " 0   ID               2000 non-null   int64\n",
      " 1   Sex              2000 non-null   int64\n",
      " 2   Marital status   2000 non-null   int64\n",
      " 3   Age              2000 non-null   int64\n",
      " 4   Education        2000 non-null   int64\n",
      " 5   Income           2000 non-null   int64\n",
      " 6   Occupation       2000 non-null   int64\n",
      " 7   Settlement size  2000 non-null   int64\n",
      "dtypes: int64(8)\n",
      "memory usage: 125.1 KB\n"
     ]
    }
   ],
   "source": [
    "segmentation_data.info()"
   ]
  },
  {
   "cell_type": "code",
   "execution_count": 6,
   "id": "fb8fd769",
   "metadata": {
    "execution": {
     "iopub.execute_input": "2022-09-20T07:57:03.576705Z",
     "iopub.status.busy": "2022-09-20T07:57:03.576045Z",
     "iopub.status.idle": "2022-09-20T07:57:03.590090Z",
     "shell.execute_reply": "2022-09-20T07:57:03.589224Z"
    },
    "papermill": {
     "duration": 0.023863,
     "end_time": "2022-09-20T07:57:03.592550",
     "exception": false,
     "start_time": "2022-09-20T07:57:03.568687",
     "status": "completed"
    },
    "tags": []
   },
   "outputs": [
    {
     "data": {
      "text/html": [
       "<div>\n",
       "<style scoped>\n",
       "    .dataframe tbody tr th:only-of-type {\n",
       "        vertical-align: middle;\n",
       "    }\n",
       "\n",
       "    .dataframe tbody tr th {\n",
       "        vertical-align: top;\n",
       "    }\n",
       "\n",
       "    .dataframe thead th {\n",
       "        text-align: right;\n",
       "    }\n",
       "</style>\n",
       "<table border=\"1\" class=\"dataframe\">\n",
       "  <thead>\n",
       "    <tr style=\"text-align: right;\">\n",
       "      <th></th>\n",
       "      <th>Sex</th>\n",
       "      <th>Marital status</th>\n",
       "      <th>Age</th>\n",
       "      <th>Education</th>\n",
       "      <th>Occupation</th>\n",
       "      <th>Settlement size</th>\n",
       "    </tr>\n",
       "  </thead>\n",
       "  <tbody>\n",
       "    <tr>\n",
       "      <th>0</th>\n",
       "      <td>0</td>\n",
       "      <td>0</td>\n",
       "      <td>67</td>\n",
       "      <td>2</td>\n",
       "      <td>1</td>\n",
       "      <td>2</td>\n",
       "    </tr>\n",
       "    <tr>\n",
       "      <th>1</th>\n",
       "      <td>1</td>\n",
       "      <td>1</td>\n",
       "      <td>22</td>\n",
       "      <td>1</td>\n",
       "      <td>1</td>\n",
       "      <td>2</td>\n",
       "    </tr>\n",
       "    <tr>\n",
       "      <th>2</th>\n",
       "      <td>0</td>\n",
       "      <td>0</td>\n",
       "      <td>49</td>\n",
       "      <td>1</td>\n",
       "      <td>0</td>\n",
       "      <td>0</td>\n",
       "    </tr>\n",
       "    <tr>\n",
       "      <th>3</th>\n",
       "      <td>0</td>\n",
       "      <td>0</td>\n",
       "      <td>45</td>\n",
       "      <td>1</td>\n",
       "      <td>1</td>\n",
       "      <td>1</td>\n",
       "    </tr>\n",
       "    <tr>\n",
       "      <th>4</th>\n",
       "      <td>0</td>\n",
       "      <td>0</td>\n",
       "      <td>53</td>\n",
       "      <td>1</td>\n",
       "      <td>1</td>\n",
       "      <td>1</td>\n",
       "    </tr>\n",
       "    <tr>\n",
       "      <th>...</th>\n",
       "      <td>...</td>\n",
       "      <td>...</td>\n",
       "      <td>...</td>\n",
       "      <td>...</td>\n",
       "      <td>...</td>\n",
       "      <td>...</td>\n",
       "    </tr>\n",
       "    <tr>\n",
       "      <th>1995</th>\n",
       "      <td>1</td>\n",
       "      <td>0</td>\n",
       "      <td>47</td>\n",
       "      <td>1</td>\n",
       "      <td>0</td>\n",
       "      <td>0</td>\n",
       "    </tr>\n",
       "    <tr>\n",
       "      <th>1996</th>\n",
       "      <td>1</td>\n",
       "      <td>1</td>\n",
       "      <td>27</td>\n",
       "      <td>1</td>\n",
       "      <td>1</td>\n",
       "      <td>0</td>\n",
       "    </tr>\n",
       "    <tr>\n",
       "      <th>1997</th>\n",
       "      <td>0</td>\n",
       "      <td>0</td>\n",
       "      <td>31</td>\n",
       "      <td>0</td>\n",
       "      <td>0</td>\n",
       "      <td>0</td>\n",
       "    </tr>\n",
       "    <tr>\n",
       "      <th>1998</th>\n",
       "      <td>1</td>\n",
       "      <td>1</td>\n",
       "      <td>24</td>\n",
       "      <td>1</td>\n",
       "      <td>0</td>\n",
       "      <td>0</td>\n",
       "    </tr>\n",
       "    <tr>\n",
       "      <th>1999</th>\n",
       "      <td>0</td>\n",
       "      <td>0</td>\n",
       "      <td>25</td>\n",
       "      <td>0</td>\n",
       "      <td>0</td>\n",
       "      <td>0</td>\n",
       "    </tr>\n",
       "  </tbody>\n",
       "</table>\n",
       "<p>2000 rows × 6 columns</p>\n",
       "</div>"
      ],
      "text/plain": [
       "      Sex  Marital status  Age  Education  Occupation  Settlement size\n",
       "0       0               0   67          2           1                2\n",
       "1       1               1   22          1           1                2\n",
       "2       0               0   49          1           0                0\n",
       "3       0               0   45          1           1                1\n",
       "4       0               0   53          1           1                1\n",
       "...   ...             ...  ...        ...         ...              ...\n",
       "1995    1               0   47          1           0                0\n",
       "1996    1               1   27          1           1                0\n",
       "1997    0               0   31          0           0                0\n",
       "1998    1               1   24          1           0                0\n",
       "1999    0               0   25          0           0                0\n",
       "\n",
       "[2000 rows x 6 columns]"
      ]
     },
     "execution_count": 6,
     "metadata": {},
     "output_type": "execute_result"
    }
   ],
   "source": [
    "X = segmentation_data.drop(['ID', 'Income'], axis=1)\n",
    "X"
   ]
  },
  {
   "cell_type": "code",
   "execution_count": 7,
   "id": "60d159f7",
   "metadata": {
    "execution": {
     "iopub.execute_input": "2022-09-20T07:57:03.607871Z",
     "iopub.status.busy": "2022-09-20T07:57:03.607109Z",
     "iopub.status.idle": "2022-09-20T07:57:03.611958Z",
     "shell.execute_reply": "2022-09-20T07:57:03.610789Z"
    },
    "papermill": {
     "duration": 0.01536,
     "end_time": "2022-09-20T07:57:03.614429",
     "exception": false,
     "start_time": "2022-09-20T07:57:03.599069",
     "status": "completed"
    },
    "tags": []
   },
   "outputs": [],
   "source": [
    "scaler = MinMaxScaler()"
   ]
  },
  {
   "cell_type": "code",
   "execution_count": 8,
   "id": "d3c24ae1",
   "metadata": {
    "execution": {
     "iopub.execute_input": "2022-09-20T07:57:03.629819Z",
     "iopub.status.busy": "2022-09-20T07:57:03.629007Z",
     "iopub.status.idle": "2022-09-20T07:57:03.650267Z",
     "shell.execute_reply": "2022-09-20T07:57:03.649087Z"
    },
    "papermill": {
     "duration": 0.031847,
     "end_time": "2022-09-20T07:57:03.652850",
     "exception": false,
     "start_time": "2022-09-20T07:57:03.621003",
     "status": "completed"
    },
    "tags": []
   },
   "outputs": [
    {
     "data": {
      "text/html": [
       "<div>\n",
       "<style scoped>\n",
       "    .dataframe tbody tr th:only-of-type {\n",
       "        vertical-align: middle;\n",
       "    }\n",
       "\n",
       "    .dataframe tbody tr th {\n",
       "        vertical-align: top;\n",
       "    }\n",
       "\n",
       "    .dataframe thead th {\n",
       "        text-align: right;\n",
       "    }\n",
       "</style>\n",
       "<table border=\"1\" class=\"dataframe\">\n",
       "  <thead>\n",
       "    <tr style=\"text-align: right;\">\n",
       "      <th></th>\n",
       "      <th>Sex</th>\n",
       "      <th>Marital status</th>\n",
       "      <th>Age</th>\n",
       "      <th>Education</th>\n",
       "      <th>Occupation</th>\n",
       "      <th>Settlement size</th>\n",
       "    </tr>\n",
       "  </thead>\n",
       "  <tbody>\n",
       "    <tr>\n",
       "      <th>0</th>\n",
       "      <td>0.0</td>\n",
       "      <td>0.0</td>\n",
       "      <td>0.844828</td>\n",
       "      <td>0.666667</td>\n",
       "      <td>0.5</td>\n",
       "      <td>1.0</td>\n",
       "    </tr>\n",
       "    <tr>\n",
       "      <th>1</th>\n",
       "      <td>1.0</td>\n",
       "      <td>1.0</td>\n",
       "      <td>0.068966</td>\n",
       "      <td>0.333333</td>\n",
       "      <td>0.5</td>\n",
       "      <td>1.0</td>\n",
       "    </tr>\n",
       "    <tr>\n",
       "      <th>2</th>\n",
       "      <td>0.0</td>\n",
       "      <td>0.0</td>\n",
       "      <td>0.534483</td>\n",
       "      <td>0.333333</td>\n",
       "      <td>0.0</td>\n",
       "      <td>0.0</td>\n",
       "    </tr>\n",
       "    <tr>\n",
       "      <th>3</th>\n",
       "      <td>0.0</td>\n",
       "      <td>0.0</td>\n",
       "      <td>0.465517</td>\n",
       "      <td>0.333333</td>\n",
       "      <td>0.5</td>\n",
       "      <td>0.5</td>\n",
       "    </tr>\n",
       "    <tr>\n",
       "      <th>4</th>\n",
       "      <td>0.0</td>\n",
       "      <td>0.0</td>\n",
       "      <td>0.603448</td>\n",
       "      <td>0.333333</td>\n",
       "      <td>0.5</td>\n",
       "      <td>0.5</td>\n",
       "    </tr>\n",
       "    <tr>\n",
       "      <th>...</th>\n",
       "      <td>...</td>\n",
       "      <td>...</td>\n",
       "      <td>...</td>\n",
       "      <td>...</td>\n",
       "      <td>...</td>\n",
       "      <td>...</td>\n",
       "    </tr>\n",
       "    <tr>\n",
       "      <th>1995</th>\n",
       "      <td>1.0</td>\n",
       "      <td>0.0</td>\n",
       "      <td>0.500000</td>\n",
       "      <td>0.333333</td>\n",
       "      <td>0.0</td>\n",
       "      <td>0.0</td>\n",
       "    </tr>\n",
       "    <tr>\n",
       "      <th>1996</th>\n",
       "      <td>1.0</td>\n",
       "      <td>1.0</td>\n",
       "      <td>0.155172</td>\n",
       "      <td>0.333333</td>\n",
       "      <td>0.5</td>\n",
       "      <td>0.0</td>\n",
       "    </tr>\n",
       "    <tr>\n",
       "      <th>1997</th>\n",
       "      <td>0.0</td>\n",
       "      <td>0.0</td>\n",
       "      <td>0.224138</td>\n",
       "      <td>0.000000</td>\n",
       "      <td>0.0</td>\n",
       "      <td>0.0</td>\n",
       "    </tr>\n",
       "    <tr>\n",
       "      <th>1998</th>\n",
       "      <td>1.0</td>\n",
       "      <td>1.0</td>\n",
       "      <td>0.103448</td>\n",
       "      <td>0.333333</td>\n",
       "      <td>0.0</td>\n",
       "      <td>0.0</td>\n",
       "    </tr>\n",
       "    <tr>\n",
       "      <th>1999</th>\n",
       "      <td>0.0</td>\n",
       "      <td>0.0</td>\n",
       "      <td>0.120690</td>\n",
       "      <td>0.000000</td>\n",
       "      <td>0.0</td>\n",
       "      <td>0.0</td>\n",
       "    </tr>\n",
       "  </tbody>\n",
       "</table>\n",
       "<p>2000 rows × 6 columns</p>\n",
       "</div>"
      ],
      "text/plain": [
       "      Sex  Marital status       Age  Education  Occupation  Settlement size\n",
       "0     0.0             0.0  0.844828   0.666667         0.5              1.0\n",
       "1     1.0             1.0  0.068966   0.333333         0.5              1.0\n",
       "2     0.0             0.0  0.534483   0.333333         0.0              0.0\n",
       "3     0.0             0.0  0.465517   0.333333         0.5              0.5\n",
       "4     0.0             0.0  0.603448   0.333333         0.5              0.5\n",
       "...   ...             ...       ...        ...         ...              ...\n",
       "1995  1.0             0.0  0.500000   0.333333         0.0              0.0\n",
       "1996  1.0             1.0  0.155172   0.333333         0.5              0.0\n",
       "1997  0.0             0.0  0.224138   0.000000         0.0              0.0\n",
       "1998  1.0             1.0  0.103448   0.333333         0.0              0.0\n",
       "1999  0.0             0.0  0.120690   0.000000         0.0              0.0\n",
       "\n",
       "[2000 rows x 6 columns]"
      ]
     },
     "execution_count": 8,
     "metadata": {},
     "output_type": "execute_result"
    }
   ],
   "source": [
    "X_scaled = pd.DataFrame(scaler.fit_transform(X.values), columns=X.columns, index=X.index)\n",
    "X_scaled"
   ]
  },
  {
   "cell_type": "code",
   "execution_count": 9,
   "id": "3cd21f9a",
   "metadata": {
    "execution": {
     "iopub.execute_input": "2022-09-20T07:57:03.668220Z",
     "iopub.status.busy": "2022-09-20T07:57:03.667813Z",
     "iopub.status.idle": "2022-09-20T07:57:03.683954Z",
     "shell.execute_reply": "2022-09-20T07:57:03.683070Z"
    },
    "papermill": {
     "duration": 0.026309,
     "end_time": "2022-09-20T07:57:03.686067",
     "exception": false,
     "start_time": "2022-09-20T07:57:03.659758",
     "status": "completed"
    },
    "tags": []
   },
   "outputs": [
    {
     "data": {
      "text/html": [
       "<div>\n",
       "<style scoped>\n",
       "    .dataframe tbody tr th:only-of-type {\n",
       "        vertical-align: middle;\n",
       "    }\n",
       "\n",
       "    .dataframe tbody tr th {\n",
       "        vertical-align: top;\n",
       "    }\n",
       "\n",
       "    .dataframe thead th {\n",
       "        text-align: right;\n",
       "    }\n",
       "</style>\n",
       "<table border=\"1\" class=\"dataframe\">\n",
       "  <thead>\n",
       "    <tr style=\"text-align: right;\">\n",
       "      <th></th>\n",
       "      <th>Sex</th>\n",
       "      <th>Marital status</th>\n",
       "      <th>Age</th>\n",
       "      <th>Education</th>\n",
       "      <th>Occupation</th>\n",
       "      <th>Settlement size</th>\n",
       "    </tr>\n",
       "  </thead>\n",
       "  <tbody>\n",
       "    <tr>\n",
       "      <th>Sex</th>\n",
       "      <td>1.000000</td>\n",
       "      <td>0.566511</td>\n",
       "      <td>-0.182885</td>\n",
       "      <td>0.244838</td>\n",
       "      <td>-0.202491</td>\n",
       "      <td>-0.300803</td>\n",
       "    </tr>\n",
       "    <tr>\n",
       "      <th>Marital status</th>\n",
       "      <td>0.566511</td>\n",
       "      <td>1.000000</td>\n",
       "      <td>-0.213178</td>\n",
       "      <td>0.374017</td>\n",
       "      <td>-0.029490</td>\n",
       "      <td>-0.097041</td>\n",
       "    </tr>\n",
       "    <tr>\n",
       "      <th>Age</th>\n",
       "      <td>-0.182885</td>\n",
       "      <td>-0.213178</td>\n",
       "      <td>1.000000</td>\n",
       "      <td>0.654605</td>\n",
       "      <td>0.108388</td>\n",
       "      <td>0.119751</td>\n",
       "    </tr>\n",
       "    <tr>\n",
       "      <th>Education</th>\n",
       "      <td>0.244838</td>\n",
       "      <td>0.374017</td>\n",
       "      <td>0.654605</td>\n",
       "      <td>1.000000</td>\n",
       "      <td>0.064524</td>\n",
       "      <td>0.034732</td>\n",
       "    </tr>\n",
       "    <tr>\n",
       "      <th>Occupation</th>\n",
       "      <td>-0.202491</td>\n",
       "      <td>-0.029490</td>\n",
       "      <td>0.108388</td>\n",
       "      <td>0.064524</td>\n",
       "      <td>1.000000</td>\n",
       "      <td>0.571795</td>\n",
       "    </tr>\n",
       "    <tr>\n",
       "      <th>Settlement size</th>\n",
       "      <td>-0.300803</td>\n",
       "      <td>-0.097041</td>\n",
       "      <td>0.119751</td>\n",
       "      <td>0.034732</td>\n",
       "      <td>0.571795</td>\n",
       "      <td>1.000000</td>\n",
       "    </tr>\n",
       "  </tbody>\n",
       "</table>\n",
       "</div>"
      ],
      "text/plain": [
       "                      Sex  Marital status       Age  Education  Occupation  \\\n",
       "Sex              1.000000        0.566511 -0.182885   0.244838   -0.202491   \n",
       "Marital status   0.566511        1.000000 -0.213178   0.374017   -0.029490   \n",
       "Age             -0.182885       -0.213178  1.000000   0.654605    0.108388   \n",
       "Education        0.244838        0.374017  0.654605   1.000000    0.064524   \n",
       "Occupation      -0.202491       -0.029490  0.108388   0.064524    1.000000   \n",
       "Settlement size -0.300803       -0.097041  0.119751   0.034732    0.571795   \n",
       "\n",
       "                 Settlement size  \n",
       "Sex                    -0.300803  \n",
       "Marital status         -0.097041  \n",
       "Age                     0.119751  \n",
       "Education               0.034732  \n",
       "Occupation              0.571795  \n",
       "Settlement size         1.000000  "
      ]
     },
     "execution_count": 9,
     "metadata": {},
     "output_type": "execute_result"
    }
   ],
   "source": [
    "corr = X_scaled.corr()\n",
    "corr"
   ]
  },
  {
   "cell_type": "code",
   "execution_count": 10,
   "id": "ec5a0fb0",
   "metadata": {
    "execution": {
     "iopub.execute_input": "2022-09-20T07:57:03.703943Z",
     "iopub.status.busy": "2022-09-20T07:57:03.703204Z",
     "iopub.status.idle": "2022-09-20T07:57:04.086970Z",
     "shell.execute_reply": "2022-09-20T07:57:04.085485Z"
    },
    "papermill": {
     "duration": 0.396437,
     "end_time": "2022-09-20T07:57:04.089915",
     "exception": false,
     "start_time": "2022-09-20T07:57:03.693478",
     "status": "completed"
    },
    "tags": []
   },
   "outputs": [
    {
     "data": {
      "text/plain": [
       "Text(0.5, 1.0, 'Heatmap of Correlation Matrix')"
      ]
     },
     "execution_count": 10,
     "metadata": {},
     "output_type": "execute_result"
    },
    {
     "data": {
      "image/png": "[encoded data removed]",
      "text/plain": [
       "<Figure size 720x720 with 2 Axes>"
      ]
     },
     "metadata": {
      "needs_background": "light"
     },
     "output_type": "display_data"
    }
   ],
   "source": [
    "plt.figure(figsize = (10,10))\n",
    "cmap = sns.diverging_palette(220, 10, as_cmap=True)\n",
    "sns.heatmap(corr, xticklabels=corr.columns.values, yticklabels=corr.columns.values, cmap=cmap, vmax=1, center=0, square=True, linewidths=.5)\n",
    "plt.title('Heatmap of Correlation Matrix')"
   ]
  },
  {
   "cell_type": "code",
   "execution_count": 11,
   "id": "ee5a3482",
   "metadata": {
    "execution": {
     "iopub.execute_input": "2022-09-20T07:57:04.109885Z",
     "iopub.status.busy": "2022-09-20T07:57:04.109426Z",
     "iopub.status.idle": "2022-09-20T07:57:19.702358Z",
     "shell.execute_reply": "2022-09-20T07:57:19.700357Z"
    },
    "papermill": {
     "duration": 15.607507,
     "end_time": "2022-09-20T07:57:19.706251",
     "exception": false,
     "start_time": "2022-09-20T07:57:04.098744",
     "status": "completed"
    },
    "tags": []
   },
   "outputs": [
    {
     "name": "stdout",
     "output_type": "stream",
     "text": [
      "1\n",
      "1691.528\n",
      "2\n",
      "992.182\n",
      "3\n",
      "776.123\n",
      "4\n",
      "595.761\n",
      "5\n",
      "482.109\n",
      "6\n",
      "375.651\n",
      "7\n",
      "334.959\n",
      "8\n",
      "301.238\n",
      "9\n",
      "272.847\n",
      "10\n",
      "255.342\n",
      "11\n",
      "234.821\n",
      "12\n",
      "215.722\n",
      "13\n",
      "200.519\n",
      "14\n",
      "183.914\n"
     ]
    }
   ],
   "source": [
    "wcss = []\n",
    "n_clusters_list = list(range(1, 15))\n",
    "\n",
    "for i in n_clusters_list:\n",
    "    print(i)\n",
    "    kmeans = KMeans(n_clusters = i, init = \"k-means++\", random_state=0)\n",
    "    kmeans.fit(X_scaled)\n",
    "    print(round(kmeans.inertia_, 3))\n",
    "    wcss.append(kmeans.inertia_)"
   ]
  },
  {
   "cell_type": "code",
   "execution_count": 12,
   "id": "66f979a7",
   "metadata": {
    "execution": {
     "iopub.execute_input": "2022-09-20T07:57:19.727888Z",
     "iopub.status.busy": "2022-09-20T07:57:19.726876Z",
     "iopub.status.idle": "2022-09-20T07:57:19.882140Z",
     "shell.execute_reply": "2022-09-20T07:57:19.880735Z"
    },
    "papermill": {
     "duration": 0.168401,
     "end_time": "2022-09-20T07:57:19.884920",
     "exception": false,
     "start_time": "2022-09-20T07:57:19.716519",
     "status": "completed"
    },
    "tags": []
   },
   "outputs": [
    {
     "data": {
      "image/png": "[encoded data removed]",
      "text/plain": [
       "<Figure size 432x288 with 1 Axes>"
      ]
     },
     "metadata": {
      "needs_background": "light"
     },
     "output_type": "display_data"
    }
   ],
   "source": [
    "plt.plot(n_clusters_list, wcss)\n",
    "plt.title(\"The Elbow Method\")\n",
    "plt.xlabel(\"Number of Clusters\")\n",
    "plt.ylabel(\"WCSS\")\n",
    "plt.show()"
   ]
  },
  {
   "cell_type": "code",
   "execution_count": 13,
   "id": "0b708f78",
   "metadata": {
    "execution": {
     "iopub.execute_input": "2022-09-20T07:57:19.905426Z",
     "iopub.status.busy": "2022-09-20T07:57:19.904970Z",
     "iopub.status.idle": "2022-09-20T07:57:20.771530Z",
     "shell.execute_reply": "2022-09-20T07:57:20.770109Z"
    },
    "papermill": {
     "duration": 0.880305,
     "end_time": "2022-09-20T07:57:20.774195",
     "exception": false,
     "start_time": "2022-09-20T07:57:19.893890",
     "status": "completed"
    },
    "tags": []
   },
   "outputs": [
    {
     "data": {
      "text/plain": [
       "KMeans(n_clusters=5, random_state=0)"
      ]
     },
     "execution_count": 13,
     "metadata": {},
     "output_type": "execute_result"
    }
   ],
   "source": [
    "kmeans = KMeans(n_clusters=5, init=\"k-means++\", random_state=0)\n",
    "kmeans.fit(X_scaled)"
   ]
  },
  {
   "cell_type": "code",
   "execution_count": 14,
   "id": "7e8584d8",
   "metadata": {
    "execution": {
     "iopub.execute_input": "2022-09-20T07:57:20.794688Z",
     "iopub.status.busy": "2022-09-20T07:57:20.794253Z",
     "iopub.status.idle": "2022-09-20T07:57:21.677742Z",
     "shell.execute_reply": "2022-09-20T07:57:21.676467Z"
    },
    "papermill": {
     "duration": 0.897951,
     "end_time": "2022-09-20T07:57:21.681448",
     "exception": false,
     "start_time": "2022-09-20T07:57:20.783497",
     "status": "completed"
    },
    "tags": []
   },
   "outputs": [],
   "source": [
    "kmeans_pred = kmeans.fit_predict(X_scaled)\n",
    "X['label'] = kmeans_pred"
   ]
  },
  {
   "cell_type": "code",
   "execution_count": 15,
   "id": "16ab5b14",
   "metadata": {
    "execution": {
     "iopub.execute_input": "2022-09-20T07:57:21.712390Z",
     "iopub.status.busy": "2022-09-20T07:57:21.711536Z",
     "iopub.status.idle": "2022-09-20T07:57:21.718577Z",
     "shell.execute_reply": "2022-09-20T07:57:21.717263Z"
    },
    "papermill": {
     "duration": 0.026911,
     "end_time": "2022-09-20T07:57:21.721748",
     "exception": false,
     "start_time": "2022-09-20T07:57:21.694837",
     "status": "completed"
    },
    "tags": []
   },
   "outputs": [],
   "source": [
    "pd.set_option('display.float_format', lambda x: '%.5f' % x)"
   ]
  },
  {
   "cell_type": "code",
   "execution_count": 16,
   "id": "b817315d",
   "metadata": {
    "execution": {
     "iopub.execute_input": "2022-09-20T07:57:21.752686Z",
     "iopub.status.busy": "2022-09-20T07:57:21.752249Z",
     "iopub.status.idle": "2022-09-20T07:57:21.850907Z",
     "shell.execute_reply": "2022-09-20T07:57:21.849592Z"
    },
    "papermill": {
     "duration": 0.111745,
     "end_time": "2022-09-20T07:57:21.853701",
     "exception": false,
     "start_time": "2022-09-20T07:57:21.741956",
     "status": "completed"
    },
    "tags": []
   },
   "outputs": [
    {
     "data": {
      "text/html": [
       "<style type=\"text/css\">\n",
       "</style>\n",
       "<table id=\"T_dd5e2_\">\n",
       "  <thead>\n",
       "    <tr>\n",
       "      <th class=\"blank level0\" >&nbsp;</th>\n",
       "      <th class=\"col_heading level0 col0\" colspan=\"3\">Sex</th>\n",
       "      <th class=\"col_heading level0 col3\" colspan=\"3\">Marital status</th>\n",
       "      <th class=\"col_heading level0 col6\" colspan=\"3\">Age</th>\n",
       "      <th class=\"col_heading level0 col9\" colspan=\"3\">Education</th>\n",
       "      <th class=\"col_heading level0 col12\" colspan=\"3\">Occupation</th>\n",
       "      <th class=\"col_heading level0 col15\" colspan=\"3\">Settlement size</th>\n",
       "    </tr>\n",
       "    <tr>\n",
       "      <th class=\"blank level1\" >&nbsp;</th>\n",
       "      <th class=\"col_heading level1 col0\" >min</th>\n",
       "      <th class=\"col_heading level1 col1\" >mean</th>\n",
       "      <th class=\"col_heading level1 col2\" >max</th>\n",
       "      <th class=\"col_heading level1 col3\" >min</th>\n",
       "      <th class=\"col_heading level1 col4\" >mean</th>\n",
       "      <th class=\"col_heading level1 col5\" >max</th>\n",
       "      <th class=\"col_heading level1 col6\" >min</th>\n",
       "      <th class=\"col_heading level1 col7\" >mean</th>\n",
       "      <th class=\"col_heading level1 col8\" >max</th>\n",
       "      <th class=\"col_heading level1 col9\" >min</th>\n",
       "      <th class=\"col_heading level1 col10\" >mean</th>\n",
       "      <th class=\"col_heading level1 col11\" >max</th>\n",
       "      <th class=\"col_heading level1 col12\" >min</th>\n",
       "      <th class=\"col_heading level1 col13\" >mean</th>\n",
       "      <th class=\"col_heading level1 col14\" >max</th>\n",
       "      <th class=\"col_heading level1 col15\" >min</th>\n",
       "      <th class=\"col_heading level1 col16\" >mean</th>\n",
       "      <th class=\"col_heading level1 col17\" >max</th>\n",
       "    </tr>\n",
       "    <tr>\n",
       "      <th class=\"index_name level0\" >label</th>\n",
       "      <th class=\"blank col0\" >&nbsp;</th>\n",
       "      <th class=\"blank col1\" >&nbsp;</th>\n",
       "      <th class=\"blank col2\" >&nbsp;</th>\n",
       "      <th class=\"blank col3\" >&nbsp;</th>\n",
       "      <th class=\"blank col4\" >&nbsp;</th>\n",
       "      <th class=\"blank col5\" >&nbsp;</th>\n",
       "      <th class=\"blank col6\" >&nbsp;</th>\n",
       "      <th class=\"blank col7\" >&nbsp;</th>\n",
       "      <th class=\"blank col8\" >&nbsp;</th>\n",
       "      <th class=\"blank col9\" >&nbsp;</th>\n",
       "      <th class=\"blank col10\" >&nbsp;</th>\n",
       "      <th class=\"blank col11\" >&nbsp;</th>\n",
       "      <th class=\"blank col12\" >&nbsp;</th>\n",
       "      <th class=\"blank col13\" >&nbsp;</th>\n",
       "      <th class=\"blank col14\" >&nbsp;</th>\n",
       "      <th class=\"blank col15\" >&nbsp;</th>\n",
       "      <th class=\"blank col16\" >&nbsp;</th>\n",
       "      <th class=\"blank col17\" >&nbsp;</th>\n",
       "    </tr>\n",
       "  </thead>\n",
       "  <tbody>\n",
       "    <tr>\n",
       "      <th id=\"T_dd5e2_level0_row0\" class=\"row_heading level0 row0\" >0</th>\n",
       "      <td id=\"T_dd5e2_row0_col0\" class=\"data row0 col0\" >1</td>\n",
       "      <td id=\"T_dd5e2_row0_col1\" class=\"data row0 col1\" >1.000</td>\n",
       "      <td id=\"T_dd5e2_row0_col2\" class=\"data row0 col2\" >1</td>\n",
       "      <td id=\"T_dd5e2_row0_col3\" class=\"data row0 col3\" >1</td>\n",
       "      <td id=\"T_dd5e2_row0_col4\" class=\"data row0 col4\" >1.000</td>\n",
       "      <td id=\"T_dd5e2_row0_col5\" class=\"data row0 col5\" >1</td>\n",
       "      <td id=\"T_dd5e2_row0_col6\" class=\"data row0 col6\" >18</td>\n",
       "      <td id=\"T_dd5e2_row0_col7\" class=\"data row0 col7\" >33.193</td>\n",
       "      <td id=\"T_dd5e2_row0_col8\" class=\"data row0 col8\" >76</td>\n",
       "      <td id=\"T_dd5e2_row0_col9\" class=\"data row0 col9\" >1</td>\n",
       "      <td id=\"T_dd5e2_row0_col10\" class=\"data row0 col10\" >1.262</td>\n",
       "      <td id=\"T_dd5e2_row0_col11\" class=\"data row0 col11\" >3</td>\n",
       "      <td id=\"T_dd5e2_row0_col12\" class=\"data row0 col12\" >0</td>\n",
       "      <td id=\"T_dd5e2_row0_col13\" class=\"data row0 col13\" >0.742</td>\n",
       "      <td id=\"T_dd5e2_row0_col14\" class=\"data row0 col14\" >2</td>\n",
       "      <td id=\"T_dd5e2_row0_col15\" class=\"data row0 col15\" >0</td>\n",
       "      <td id=\"T_dd5e2_row0_col16\" class=\"data row0 col16\" >0.569</td>\n",
       "      <td id=\"T_dd5e2_row0_col17\" class=\"data row0 col17\" >2</td>\n",
       "    </tr>\n",
       "    <tr>\n",
       "      <th id=\"T_dd5e2_level0_row1\" class=\"row_heading level0 row1\" >1</th>\n",
       "      <td id=\"T_dd5e2_row1_col0\" class=\"data row1 col0\" >0</td>\n",
       "      <td id=\"T_dd5e2_row1_col1\" class=\"data row1 col1\" >0.000</td>\n",
       "      <td id=\"T_dd5e2_row1_col2\" class=\"data row1 col2\" >0</td>\n",
       "      <td id=\"T_dd5e2_row1_col3\" class=\"data row1 col3\" >0</td>\n",
       "      <td id=\"T_dd5e2_row1_col4\" class=\"data row1 col4\" >0.000</td>\n",
       "      <td id=\"T_dd5e2_row1_col5\" class=\"data row1 col5\" >0</td>\n",
       "      <td id=\"T_dd5e2_row1_col6\" class=\"data row1 col6\" >20</td>\n",
       "      <td id=\"T_dd5e2_row1_col7\" class=\"data row1 col7\" >39.957</td>\n",
       "      <td id=\"T_dd5e2_row1_col8\" class=\"data row1 col8\" >75</td>\n",
       "      <td id=\"T_dd5e2_row1_col9\" class=\"data row1 col9\" >0</td>\n",
       "      <td id=\"T_dd5e2_row1_col10\" class=\"data row1 col10\" >0.819</td>\n",
       "      <td id=\"T_dd5e2_row1_col11\" class=\"data row1 col11\" >2</td>\n",
       "      <td id=\"T_dd5e2_row1_col12\" class=\"data row1 col12\" >0</td>\n",
       "      <td id=\"T_dd5e2_row1_col13\" class=\"data row1 col13\" >1.264</td>\n",
       "      <td id=\"T_dd5e2_row1_col14\" class=\"data row1 col14\" >2</td>\n",
       "      <td id=\"T_dd5e2_row1_col15\" class=\"data row1 col15\" >1</td>\n",
       "      <td id=\"T_dd5e2_row1_col16\" class=\"data row1 col16\" >1.536</td>\n",
       "      <td id=\"T_dd5e2_row1_col17\" class=\"data row1 col17\" >2</td>\n",
       "    </tr>\n",
       "    <tr>\n",
       "      <th id=\"T_dd5e2_level0_row2\" class=\"row_heading level0 row2\" >2</th>\n",
       "      <td id=\"T_dd5e2_row2_col0\" class=\"data row2 col0\" >0</td>\n",
       "      <td id=\"T_dd5e2_row2_col1\" class=\"data row2 col1\" >0.000</td>\n",
       "      <td id=\"T_dd5e2_row2_col2\" class=\"data row2 col2\" >0</td>\n",
       "      <td id=\"T_dd5e2_row2_col3\" class=\"data row2 col3\" >1</td>\n",
       "      <td id=\"T_dd5e2_row2_col4\" class=\"data row2 col4\" >1.000</td>\n",
       "      <td id=\"T_dd5e2_row2_col5\" class=\"data row2 col5\" >1</td>\n",
       "      <td id=\"T_dd5e2_row2_col6\" class=\"data row2 col6\" >18</td>\n",
       "      <td id=\"T_dd5e2_row2_col7\" class=\"data row2 col7\" >33.969</td>\n",
       "      <td id=\"T_dd5e2_row2_col8\" class=\"data row2 col8\" >67</td>\n",
       "      <td id=\"T_dd5e2_row2_col9\" class=\"data row2 col9\" >1</td>\n",
       "      <td id=\"T_dd5e2_row2_col10\" class=\"data row2 col10\" >1.268</td>\n",
       "      <td id=\"T_dd5e2_row2_col11\" class=\"data row2 col11\" >3</td>\n",
       "      <td id=\"T_dd5e2_row2_col12\" class=\"data row2 col12\" >0</td>\n",
       "      <td id=\"T_dd5e2_row2_col13\" class=\"data row2 col13\" >0.934</td>\n",
       "      <td id=\"T_dd5e2_row2_col14\" class=\"data row2 col14\" >2</td>\n",
       "      <td id=\"T_dd5e2_row2_col15\" class=\"data row2 col15\" >0</td>\n",
       "      <td id=\"T_dd5e2_row2_col16\" class=\"data row2 col16\" >0.918</td>\n",
       "      <td id=\"T_dd5e2_row2_col17\" class=\"data row2 col17\" >2</td>\n",
       "    </tr>\n",
       "    <tr>\n",
       "      <th id=\"T_dd5e2_level0_row3\" class=\"row_heading level0 row3\" >3</th>\n",
       "      <td id=\"T_dd5e2_row3_col0\" class=\"data row3 col0\" >0</td>\n",
       "      <td id=\"T_dd5e2_row3_col1\" class=\"data row3 col1\" >0.000</td>\n",
       "      <td id=\"T_dd5e2_row3_col2\" class=\"data row3 col2\" >0</td>\n",
       "      <td id=\"T_dd5e2_row3_col3\" class=\"data row3 col3\" >0</td>\n",
       "      <td id=\"T_dd5e2_row3_col4\" class=\"data row3 col4\" >0.000</td>\n",
       "      <td id=\"T_dd5e2_row3_col5\" class=\"data row3 col5\" >0</td>\n",
       "      <td id=\"T_dd5e2_row3_col6\" class=\"data row3 col6\" >21</td>\n",
       "      <td id=\"T_dd5e2_row3_col7\" class=\"data row3 col7\" >37.656</td>\n",
       "      <td id=\"T_dd5e2_row3_col8\" class=\"data row3 col8\" >74</td>\n",
       "      <td id=\"T_dd5e2_row3_col9\" class=\"data row3 col9\" >0</td>\n",
       "      <td id=\"T_dd5e2_row3_col10\" class=\"data row3 col10\" >0.742</td>\n",
       "      <td id=\"T_dd5e2_row3_col11\" class=\"data row3 col11\" >2</td>\n",
       "      <td id=\"T_dd5e2_row3_col12\" class=\"data row3 col12\" >0</td>\n",
       "      <td id=\"T_dd5e2_row3_col13\" class=\"data row3 col13\" >0.376</td>\n",
       "      <td id=\"T_dd5e2_row3_col14\" class=\"data row3 col14\" >2</td>\n",
       "      <td id=\"T_dd5e2_row3_col15\" class=\"data row3 col15\" >0</td>\n",
       "      <td id=\"T_dd5e2_row3_col16\" class=\"data row3 col16\" >0.061</td>\n",
       "      <td id=\"T_dd5e2_row3_col17\" class=\"data row3 col17\" >1</td>\n",
       "    </tr>\n",
       "    <tr>\n",
       "      <th id=\"T_dd5e2_level0_row4\" class=\"row_heading level0 row4\" >4</th>\n",
       "      <td id=\"T_dd5e2_row4_col0\" class=\"data row4 col0\" >1</td>\n",
       "      <td id=\"T_dd5e2_row4_col1\" class=\"data row4 col1\" >1.000</td>\n",
       "      <td id=\"T_dd5e2_row4_col2\" class=\"data row4 col2\" >1</td>\n",
       "      <td id=\"T_dd5e2_row4_col3\" class=\"data row4 col3\" >0</td>\n",
       "      <td id=\"T_dd5e2_row4_col4\" class=\"data row4 col4\" >0.000</td>\n",
       "      <td id=\"T_dd5e2_row4_col5\" class=\"data row4 col5\" >0</td>\n",
       "      <td id=\"T_dd5e2_row4_col6\" class=\"data row4 col6\" >19</td>\n",
       "      <td id=\"T_dd5e2_row4_col7\" class=\"data row4 col7\" >35.146</td>\n",
       "      <td id=\"T_dd5e2_row4_col8\" class=\"data row4 col8\" >70</td>\n",
       "      <td id=\"T_dd5e2_row4_col9\" class=\"data row4 col9\" >0</td>\n",
       "      <td id=\"T_dd5e2_row4_col10\" class=\"data row4 col10\" >0.933</td>\n",
       "      <td id=\"T_dd5e2_row4_col11\" class=\"data row4 col11\" >3</td>\n",
       "      <td id=\"T_dd5e2_row4_col12\" class=\"data row4 col12\" >0</td>\n",
       "      <td id=\"T_dd5e2_row4_col13\" class=\"data row4 col13\" >0.371</td>\n",
       "      <td id=\"T_dd5e2_row4_col14\" class=\"data row4 col14\" >2</td>\n",
       "      <td id=\"T_dd5e2_row4_col15\" class=\"data row4 col15\" >0</td>\n",
       "      <td id=\"T_dd5e2_row4_col16\" class=\"data row4 col16\" >0.073</td>\n",
       "      <td id=\"T_dd5e2_row4_col17\" class=\"data row4 col17\" >1</td>\n",
       "    </tr>\n",
       "  </tbody>\n",
       "</table>\n"
      ],
      "text/plain": [
       "<pandas.io.formats.style.Styler at 0x7fd190a59990>"
      ]
     },
     "execution_count": 16,
     "metadata": {},
     "output_type": "execute_result"
    }
   ],
   "source": [
    "X.groupby('label').agg(['min', 'mean', 'max']).style.format(thousands=',', precision=3)"
   ]
  },
  {
   "cell_type": "code",
   "execution_count": 17,
   "id": "119004a5",
   "metadata": {
    "execution": {
     "iopub.execute_input": "2022-09-20T07:57:21.875556Z",
     "iopub.status.busy": "2022-09-20T07:57:21.874688Z",
     "iopub.status.idle": "2022-09-20T07:57:21.879979Z",
     "shell.execute_reply": "2022-09-20T07:57:21.878753Z"
    },
    "papermill": {
     "duration": 0.019575,
     "end_time": "2022-09-20T07:57:21.882787",
     "exception": false,
     "start_time": "2022-09-20T07:57:21.863212",
     "status": "completed"
    },
    "tags": []
   },
   "outputs": [],
   "source": [
    "from sklearn.decomposition import PCA\n",
    "from sklearn.metrics.pairwise import cosine_similarity"
   ]
  },
  {
   "cell_type": "code",
   "execution_count": 18,
   "id": "69d8779e",
   "metadata": {
    "execution": {
     "iopub.execute_input": "2022-09-20T07:57:21.904284Z",
     "iopub.status.busy": "2022-09-20T07:57:21.903832Z",
     "iopub.status.idle": "2022-09-20T07:57:22.449867Z",
     "shell.execute_reply": "2022-09-20T07:57:22.448313Z"
    },
    "papermill": {
     "duration": 0.560689,
     "end_time": "2022-09-20T07:57:22.453442",
     "exception": false,
     "start_time": "2022-09-20T07:57:21.892753",
     "status": "completed"
    },
    "tags": []
   },
   "outputs": [
    {
     "data": {
      "text/plain": [
       "(2000, 3)"
      ]
     },
     "execution_count": 18,
     "metadata": {},
     "output_type": "execute_result"
    }
   ],
   "source": [
    "dist = 1 - cosine_similarity(X_scaled)\n",
    "\n",
    "pca = PCA(3)\n",
    "pca.fit(dist)\n",
    "X_PCA = pca.transform(dist)\n",
    "X_PCA.shape"
   ]
  },
  {
   "cell_type": "code",
   "execution_count": 19,
   "id": "d2f2ec9a",
   "metadata": {
    "execution": {
     "iopub.execute_input": "2022-09-20T07:57:22.487138Z",
     "iopub.status.busy": "2022-09-20T07:57:22.486421Z",
     "iopub.status.idle": "2022-09-20T07:57:22.495531Z",
     "shell.execute_reply": "2022-09-20T07:57:22.494090Z"
    },
    "papermill": {
     "duration": 0.03304,
     "end_time": "2022-09-20T07:57:22.502177",
     "exception": false,
     "start_time": "2022-09-20T07:57:22.469137",
     "status": "completed"
    },
    "tags": []
   },
   "outputs": [
    {
     "data": {
      "text/plain": [
       "array([0.65531899, 0.20734325, 0.06127453])"
      ]
     },
     "execution_count": 19,
     "metadata": {},
     "output_type": "execute_result"
    }
   ],
   "source": [
    "pca.explained_variance_ratio_"
   ]
  },
  {
   "cell_type": "code",
   "execution_count": 20,
   "id": "12c98321",
   "metadata": {
    "execution": {
     "iopub.execute_input": "2022-09-20T07:57:22.538171Z",
     "iopub.status.busy": "2022-09-20T07:57:22.537365Z",
     "iopub.status.idle": "2022-09-20T07:57:22.814840Z",
     "shell.execute_reply": "2022-09-20T07:57:22.813101Z"
    },
    "papermill": {
     "duration": 0.299557,
     "end_time": "2022-09-20T07:57:22.817582",
     "exception": false,
     "start_time": "2022-09-20T07:57:22.518025",
     "status": "completed"
    },
    "tags": []
   },
   "outputs": [
    {
     "data": {
      "image/png": "[encoded data removed]",
      "text/plain": [
       "<Figure size 1440x936 with 1 Axes>"
      ]
     },
     "metadata": {
      "needs_background": "light"
     },
     "output_type": "display_data"
    }
   ],
   "source": [
    "x, y = X_PCA[:, 0], X_PCA[:, 1]\n",
    "\n",
    "colors = {\n",
    "    0: 'blue',\n",
    "    1: 'orange',\n",
    "    2: 'green', \n",
    "    3: 'red', \n",
    "    4: 'purple',  \n",
    "    5: 'darkblue',\n",
    "    6: 'pink',\n",
    "    7: 'black'\n",
    "}\n",
    "  \n",
    "df = pd.DataFrame({'x': x, 'y':y, 'label':X['label']}) \n",
    "groups = df.groupby('label')\n",
    "\n",
    "fig, ax = plt.subplots(figsize=(20, 13)) \n",
    "\n",
    "for name, group in groups:\n",
    "    ax.plot(group.x, group.y, marker='o', linestyle='', ms=5,\n",
    "            color=colors[name], label='Label_' + str(name), mec='none')\n",
    "    ax.set_aspect('auto')\n",
    "    ax.tick_params(axis='x', which='both', bottom='off', top='off', labelbottom='off')\n",
    "    ax.tick_params(axis='y', which='both', left='off', top='off', labelleft='off')\n",
    "    \n",
    "ax.legend()\n",
    "ax.set_title(\"Truck Categorization Based On Volume and Weight.\")\n",
    "plt.show()"
   ]
  },
  {
   "cell_type": "code",
   "execution_count": null,
   "id": "846a058b",
   "metadata": {
    "papermill": {
     "duration": 0.010353,
     "end_time": "2022-09-20T07:57:22.838377",
     "exception": false,
     "start_time": "2022-09-20T07:57:22.828024",
     "status": "completed"
    },
    "tags": []
   },
   "outputs": [],
   "source": []
  }
 ],
 "metadata": {
  "kernelspec": {
   "display_name": "Python 3",
   "language": "python",
   "name": "python3"
  },
  "language_info": {
   "codemirror_mode": {
    "name": "ipython",
    "version": 3
   },
   "file_extension": ".py",
   "mimetype": "text/x-python",
   "name": "python",
   "nbconvert_exporter": "python",
   "pygments_lexer": "ipython3",
   "version": "3.7.12"
  },
  "papermill": {
   "default_parameters": {},
   "duration": 32.79902,
   "end_time": "2022-09-20T07:57:23.673173",
   "environment_variables": {},
   "exception": null,
   "input_path": "__notebook__.ipynb",
   "output_path": "__notebook__.ipynb",
   "parameters": {},
   "start_time": "2022-09-20T07:56:50.874153",
   "version": "2.3.4"
  }
 },
 "nbformat": 4,
 "nbformat_minor": 5
}
